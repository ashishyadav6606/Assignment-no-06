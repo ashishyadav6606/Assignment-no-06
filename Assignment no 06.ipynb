{
 "cells": [
  {
   "cell_type": "code",
   "execution_count": 6,
   "id": "dcba0ec9",
   "metadata": {},
   "outputs": [],
   "source": [
    "#Ans no 01\n",
    "\n",
    "#A Class in object oriented programming is a blueprint or prototype that defines the variables and the methods (functions) common to all Java Objects of a certain kind\n",
    "# An object in OOPS is a specimen of a class. Software objects are often used to model real-world objects you find in everyday life.\n",
    "class intro:\n",
    "    def __init__(self,name ,rollno,mobileno):\n",
    "        self.name=name\n",
    "        self.rollno=rollno\n",
    "        self.mobileno =mobileno\n",
    "    def student(self):\n",
    "        return self.name,self.rollno,self.mobileno"
   ]
  },
  {
   "cell_type": "code",
   "execution_count": 7,
   "id": "2e74bc57",
   "metadata": {},
   "outputs": [],
   "source": [
    "s=intro(\"ashish\",145670,154161845613)"
   ]
  },
  {
   "cell_type": "code",
   "execution_count": 8,
   "id": "c372f481",
   "metadata": {},
   "outputs": [
    {
     "data": {
      "text/plain": [
       "('ashish', 145670, 154161845613)"
      ]
     },
     "execution_count": 8,
     "metadata": {},
     "output_type": "execute_result"
    }
   ],
   "source": [
    "s.student()"
   ]
  },
  {
   "cell_type": "code",
   "execution_count": 9,
   "id": "63f60d7d",
   "metadata": {},
   "outputs": [],
   "source": [
    "#Ans no02 "
   ]
  },
  {
   "cell_type": "code",
   "execution_count": 10,
   "id": "d1dcf8da",
   "metadata": {},
   "outputs": [],
   "source": [
    " #  These principles are called the four pillars of object-oriented programming (OOP)\n",
    "# These four pillars are Inheritance, Polymorphism, Encapsulation and Abstraction.21"
   ]
  },
  {
   "cell_type": "code",
   "execution_count": 11,
   "id": "68620d97",
   "metadata": {},
   "outputs": [],
   "source": [
    "#Ans no 03"
   ]
  },
  {
   "cell_type": "code",
   "execution_count": 12,
   "id": "2bcf0f6d",
   "metadata": {},
   "outputs": [],
   "source": [
    "#To understand the meaning of classes we have to understand the built-in __init__() function. All classes have a function called __init__(), which is always executed when the class is being initiated.\n",
    "class intro:\n",
    "    def __init__(self,name ,rollno,mobileno):\n",
    "        self.name=name\n",
    "        self.rollno=rollno\n",
    "        self.mobileno =mobileno\n",
    "    def student(self):\n",
    "        return self.name,self.rollno,self.mobileno"
   ]
  },
  {
   "cell_type": "code",
   "execution_count": 13,
   "id": "5b5bc34f",
   "metadata": {},
   "outputs": [],
   "source": [
    "s=intro(\"ashish\",145670,154161845613)"
   ]
  },
  {
   "cell_type": "code",
   "execution_count": 14,
   "id": "87c40f9d",
   "metadata": {},
   "outputs": [
    {
     "data": {
      "text/plain": [
       "('ashish', 145670, 154161845613)"
      ]
     },
     "execution_count": 14,
     "metadata": {},
     "output_type": "execute_result"
    }
   ],
   "source": [
    "s.student()"
   ]
  },
  {
   "cell_type": "code",
   "execution_count": 15,
   "id": "0b6ce21d",
   "metadata": {},
   "outputs": [],
   "source": [
    "#Ans no 04"
   ]
  },
  {
   "cell_type": "code",
   "execution_count": 16,
   "id": "5d8e7b8d",
   "metadata": {},
   "outputs": [],
   "source": [
    "#The self variable is used to represent the instance of the class which is often used in object-oriented programming"
   ]
  },
  {
   "cell_type": "code",
   "execution_count": 17,
   "id": "04b3a8f1",
   "metadata": {},
   "outputs": [],
   "source": [
    "#Ans no 05"
   ]
  },
  {
   "cell_type": "code",
   "execution_count": 18,
   "id": "cf07a6b4",
   "metadata": {},
   "outputs": [],
   "source": [
    "#Inheritance is a mechanism in which one class acquires the property of another class"
   ]
  },
  {
   "cell_type": "code",
   "execution_count": 19,
   "id": "7cae37bb",
   "metadata": {},
   "outputs": [],
   "source": [
    "#single type inheritance"
   ]
  },
  {
   "cell_type": "code",
   "execution_count": 21,
   "id": "953aee00",
   "metadata": {},
   "outputs": [],
   "source": [
    "class person:\n",
    "    name=\"prakash yadav\"\n",
    "    age=35\n",
    "    comapny='google'"
   ]
  },
  {
   "cell_type": "code",
   "execution_count": 23,
   "id": "0b05018a",
   "metadata": {},
   "outputs": [],
   "source": [
    "class child(person):\n",
    "    student ='akash'\n",
    "    rollno=1545\n",
    "    idno=1020"
   ]
  },
  {
   "cell_type": "code",
   "execution_count": 26,
   "id": "ff6bc9e7",
   "metadata": {},
   "outputs": [],
   "source": [
    "p=person()\n",
    "c=child()\n"
   ]
  },
  {
   "cell_type": "code",
   "execution_count": 28,
   "id": "3d8284a3",
   "metadata": {},
   "outputs": [
    {
     "data": {
      "text/plain": [
       "'prakash yadav'"
      ]
     },
     "execution_count": 28,
     "metadata": {},
     "output_type": "execute_result"
    }
   ],
   "source": [
    "p.name"
   ]
  },
  {
   "cell_type": "code",
   "execution_count": 29,
   "id": "97a85e80",
   "metadata": {},
   "outputs": [
    {
     "data": {
      "text/plain": [
       "'prakash yadav'"
      ]
     },
     "execution_count": 29,
     "metadata": {},
     "output_type": "execute_result"
    }
   ],
   "source": [
    "c.name"
   ]
  },
  {
   "cell_type": "code",
   "execution_count": 30,
   "id": "bb079a4e",
   "metadata": {},
   "outputs": [],
   "source": [
    "#multiple inheritance\n",
    "class person:\n",
    "    name=\"prakash yadav\"\n",
    "    age=35\n",
    "    comapny='google'"
   ]
  },
  {
   "cell_type": "code",
   "execution_count": 31,
   "id": "03c52f9b",
   "metadata": {},
   "outputs": [],
   "source": [
    "class child():\n",
    "    student ='akash'\n",
    "    rollno=1545\n",
    "    idno=1020"
   ]
  },
  {
   "cell_type": "code",
   "execution_count": 32,
   "id": "b7b4600d",
   "metadata": {},
   "outputs": [],
   "source": [
    "class grandfather(child, person):\n",
    "    employee='shivshanker'\n",
    "    company='google'\n",
    "    salary=1000"
   ]
  },
  {
   "cell_type": "code",
   "execution_count": 34,
   "id": "544da692",
   "metadata": {},
   "outputs": [],
   "source": [
    "p=person()\n",
    "c=child()\n",
    "g=grandfather()"
   ]
  },
  {
   "cell_type": "code",
   "execution_count": 35,
   "id": "2d081b64",
   "metadata": {},
   "outputs": [
    {
     "data": {
      "text/plain": [
       "35"
      ]
     },
     "execution_count": 35,
     "metadata": {},
     "output_type": "execute_result"
    }
   ],
   "source": [
    "g.age"
   ]
  },
  {
   "cell_type": "code",
   "execution_count": 36,
   "id": "7ba8ce30",
   "metadata": {},
   "outputs": [],
   "source": [
    "#multilevel inheritance\n",
    "class person:\n",
    "    name=\"prakash yadav\"\n",
    "    age=35\n",
    "    comapny='google'"
   ]
  },
  {
   "cell_type": "code",
   "execution_count": 37,
   "id": "03d80f69",
   "metadata": {},
   "outputs": [],
   "source": [
    "class child(person):\n",
    "    student ='akash'\n",
    "    rollno=1545\n",
    "    idno=1020"
   ]
  },
  {
   "cell_type": "code",
   "execution_count": 38,
   "id": "70084667",
   "metadata": {},
   "outputs": [],
   "source": [
    "class grandfather(child):\n",
    "    employee='shivshanker'\n",
    "    company='google'\n",
    "    salary=1000"
   ]
  },
  {
   "cell_type": "code",
   "execution_count": 39,
   "id": "0ba81267",
   "metadata": {},
   "outputs": [],
   "source": [
    "p=person()\n",
    "c=child()\n",
    "g=grandfather()"
   ]
  },
  {
   "cell_type": "code",
   "execution_count": 40,
   "id": "8c756879",
   "metadata": {},
   "outputs": [
    {
     "data": {
      "text/plain": [
       "'prakash yadav'"
      ]
     },
     "execution_count": 40,
     "metadata": {},
     "output_type": "execute_result"
    }
   ],
   "source": [
    "c.name"
   ]
  },
  {
   "cell_type": "code",
   "execution_count": null,
   "id": "96ea7cf1",
   "metadata": {},
   "outputs": [],
   "source": []
  }
 ],
 "metadata": {
  "kernelspec": {
   "display_name": "Python 3 (ipykernel)",
   "language": "python",
   "name": "python3"
  },
  "language_info": {
   "codemirror_mode": {
    "name": "ipython",
    "version": 3
   },
   "file_extension": ".py",
   "mimetype": "text/x-python",
   "name": "python",
   "nbconvert_exporter": "python",
   "pygments_lexer": "ipython3",
   "version": "3.11.1"
  }
 },
 "nbformat": 4,
 "nbformat_minor": 5
}
